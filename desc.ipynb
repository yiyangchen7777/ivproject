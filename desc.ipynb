{
 "cells": [
  {
   "cell_type": "code",
   "execution_count": 4,
   "id": "328b21e7",
   "metadata": {},
   "outputs": [
    {
     "name": "stdout",
     "output_type": "stream",
     "text": [
      "🔹 正在处理 cafe_brunch_bakery_desc.csv ...\n",
      "  ✅ 删除 0 条 openinghour 为空的数据。\n",
      "  💾 已保存为 cafe.csv （剩余 85 条）\n",
      "\n",
      "🔹 正在处理 restaurant_english_clean_desc.csv ...\n",
      "  ✅ 删除 26 条 openinghour 为空的数据。\n",
      "  💾 已保存为 restaurant.csv （剩余 464 条）\n",
      "\n",
      "🔹 正在处理 milktea_juice_english_clean.csv ...\n",
      "  ✅ 删除 2 条 openinghour 为空的数据。\n",
      "  💾 已保存为 milk_juice.csv （剩余 70 条）\n",
      "\n",
      "🔹 正在处理 melbourne_cbd_bars.csv ...\n",
      "  ✅ 删除 0 条 openinghour 为空的数据。\n",
      "  💾 已保存为 bars.csv （剩余 51 条）\n",
      "\n",
      "🎉 全部处理完成！\n"
     ]
    }
   ],
   "source": [
    "import pandas as pd\n",
    "import os\n",
    "\n",
    "# 定义输入输出映射\n",
    "files = {\n",
    "    \"cafe_brunch_bakery_desc.csv\": \"cafe.csv\",\n",
    "    \"restaurant_english_clean_desc.csv\": \"restaurant.csv\",\n",
    "    \"milktea_juice_english_clean.csv\": \"milk_juice.csv\",\n",
    "    \"melbourne_cbd_bars.csv\": \"bars.csv\"\n",
    "}\n",
    "\n",
    "for src, dst in files.items():\n",
    "    if not os.path.exists(src):\n",
    "        print(f\"⚠️ 文件未找到: {src}\")\n",
    "        continue\n",
    "\n",
    "    print(f\"🔹 正在处理 {src} ...\")\n",
    "\n",
    "    df = pd.read_csv(src)\n",
    "\n",
    "    # 处理 description\n",
    "    if 'description' in df.columns:\n",
    "        df['description'] = df['description'].astype(str).str.replace(r\"\\|.*$\", \"\", regex=True).str.strip()\n",
    "    else:\n",
    "        print(\"  ⚠️ 未找到 'description' 列。\")\n",
    "\n",
    "    # 去除 openinghour 为空的数据\n",
    "    open_cols = [c for c in df.columns if c.lower() in [\"openinghour\", \"openinghours\"]]\n",
    "    if open_cols:\n",
    "        col = open_cols[0]\n",
    "        before = len(df)\n",
    "        df = df[df[col].notna()]\n",
    "        df = df[df[col].astype(str).str.strip() != \"\"]\n",
    "        removed = before - len(df)\n",
    "        print(f\"  ✅ 删除 {removed} 条 openinghour 为空的数据。\")\n",
    "    else:\n",
    "        print(\"  ⚠️ 未找到 'openinghour' 列。\")\n",
    "\n",
    "    # 保存\n",
    "    df.to_csv(dst, index=False, encoding=\"utf-8-sig\")\n",
    "    print(f\"  💾 已保存为 {dst} （剩余 {len(df)} 条）\\n\")\n",
    "\n",
    "print(\"🎉 全部处理完成！\")\n",
    "\n"
   ]
  },
  {
   "cell_type": "code",
   "execution_count": 5,
   "id": "e4b35a34",
   "metadata": {},
   "outputs": [
    {
     "name": "stdout",
     "output_type": "stream",
     "text": [
      "✅ 已生成 desc.csv，共 678 条记录。\n"
     ]
    }
   ],
   "source": [
    "import pandas as pd\n",
    "\n",
    "# ===== 文件路径（请根据你的文件名修改）=====\n",
    "files = [\n",
    "    \"cafe_brunch_bakery_desc.csv\",\n",
    "    \"restaurant_english_clean_desc.csv\",\n",
    "    \"milktea_juice_english_clean.csv\",\n",
    "    \"melbourne_cbd_bars.csv\"\n",
    "]\n",
    "\n",
    "# ===== 初始化空 DataFrame =====\n",
    "all_desc = pd.DataFrame(columns=[\"place_id\", \"description\", \"category\"])\n",
    "\n",
    "# ===== 循环读取并提取字段 =====\n",
    "for f in files:\n",
    "    try:\n",
    "        df = pd.read_csv(f)\n",
    "        \n",
    "        # 统一字段名，兼容大小写差异\n",
    "        cols = [c.lower() for c in df.columns]\n",
    "        df.columns = cols\n",
    "        \n",
    "        # 只保留 description 和 place_id\n",
    "        if \"description\" in df.columns and \"place_id\" in df.columns:\n",
    "            cat = f.split(\".\")[0]  # 从文件名提取类别\n",
    "            temp = df[[\"place_id\", \"description\"]].copy()\n",
    "            temp[\"category\"] = cat\n",
    "            all_desc = pd.concat([all_desc, temp], ignore_index=True)\n",
    "        else:\n",
    "            print(f\"⚠️ 文件 {f} 缺少必要字段，已跳过。\")\n",
    "    except Exception as e:\n",
    "        print(f\"❌ 读取 {f} 时出错：{e}\")\n",
    "\n",
    "# ===== 去除空描述 =====\n",
    "all_desc = all_desc.dropna(subset=[\"description\"])\n",
    "all_desc = all_desc[all_desc[\"description\"].str.strip() != \"\"]\n",
    "\n",
    "# ===== 输出到新文件 =====\n",
    "all_desc.to_csv(\"desc.csv\", index=False, encoding=\"utf-8-sig\")\n",
    "\n",
    "print(f\"✅ 已生成 desc.csv，共 {len(all_desc)} 条记录。\")\n"
   ]
  },
  {
   "cell_type": "code",
   "execution_count": 9,
   "id": "5a93e790",
   "metadata": {},
   "outputs": [
    {
     "name": "stdout",
     "output_type": "stream",
     "text": [
      "✅ 清洗完成，共 4988 个唯一单词，已保存为 word_freq.csv\n"
     ]
    }
   ],
   "source": [
    "import pandas as pd\n",
    "import re\n",
    "from collections import Counter\n",
    "\n",
    "# === 1. 读取合并后的 desc.csv ===\n",
    "df = pd.read_csv(\"desc.csv\")\n",
    "\n",
    "# === 2. 合并所有 description 文本 ===\n",
    "text = \" \".join(df[\"description\"].astype(str).tolist())\n",
    "\n",
    "# === 3. 基本清洗 ===\n",
    "text = text.lower()                            # 小写化\n",
    "text = re.sub(r\"http\\S+\", \"\", text)            # 去掉链接\n",
    "text = re.sub(r\"[^a-z\\s]\", \" \", text)          # 去掉非字母字符\n",
    "text = re.sub(r\"\\s+\", \" \", text).strip()       # 去掉多余空格\n",
    "\n",
    "# === 4. 分词 ===\n",
    "words = text.split()\n",
    "\n",
    "# === 5. 去停用词（常见无意义词）===\n",
    "stopwords = {\n",
    "    \"the\",\"and\",\"for\",\"with\",\"you\",\"this\",\"that\",\"was\",\"are\",\"but\",\"not\",\"have\",\n",
    "    \"had\",\"were\",\"been\",\"from\",\"they\",\"it's\",\"its\",\"very\",\n",
    "    \"place\",\"service\",\"your\",\"our\",\"us\",\"would\",\n",
    "    \"staff\",\"menu\",\"price\",\"really\",\"more\",\n",
    "    \"just\",\"well\",\"one\",\"two\",\"bit\",\"lot\",\"can\",\"get\",\"out\",\"there\",\"here\",\"will\",\n",
    "    \"when\",\"then\",\"too\",\"also\",\"back\",\"because\",\"after\",\"before\",\"still\",\"got\",\n",
    "    \"make\",\"made\",\"some\",\"come\",\"going\",\"time\",\"around\",\"area\",\"much\",\"their\",\n",
    "    \"other\",\"only\",\"first\",\"last\",\"day\",\"night\",\"ever\",\"ever\",\"every\",\"every\",\n",
    "    \"always\",\"never\",\"always\",\"always\",\"which\",\"who\",\"what\",\"where\",\"why\",\"how\",\"all\",\"definitely\",\"try\",\"recommend\",\n",
    "\n",
    "}\n",
    "\n",
    "words_clean = [w for w in words if w not in stopwords and len(w) > 2]\n",
    "\n",
    "# === 6. 统计词频 ===\n",
    "word_counts = Counter(words_clean)\n",
    "word_freq_df = pd.DataFrame(word_counts.items(), columns=[\"word\", \"count\"])\n",
    "word_freq_df = word_freq_df.sort_values(by=\"count\", ascending=False)\n",
    "\n",
    "# === 7. 保存结果 ===\n",
    "word_freq_df.to_csv(\"word_freq.csv\", index=False, encoding=\"utf-8-sig\")\n",
    "\n",
    "print(f\"✅ 清洗完成，共 {len(word_freq_df)} 个唯一单词，已保存为 word_freq.csv\")\n"
   ]
  },
  {
   "cell_type": "code",
   "execution_count": 2,
   "id": "c23fca65",
   "metadata": {},
   "outputs": [],
   "source": [
    "import pandas as pd\n",
    "\n",
    "# Read the CSV\n",
    "df = pd.read_csv(\"word_freq.csv\")\n",
    "\n",
    "# Capitalize first letter of each word\n",
    "df[\"word\"] = df[\"word\"].str.capitalize()\n",
    "\n",
    "# Sort by 'count' in descending order\n",
    "df = df.sort_values(\"count\", ascending=False)\n",
    "\n",
    "# Reset index\n",
    "df = df.reset_index(drop=True)\n",
    "\n",
    "# Save changes back to the same file\n",
    "df.to_csv(\"word_freq.csv\", index=False)\n"
   ]
  },
  {
   "cell_type": "markdown",
   "id": "ae8462a8",
   "metadata": {},
   "source": [
    "<div class='tableauPlaceholder' id='viz1761546625032' style='position: relative'><noscript><a href='#'><img alt='Dashboard 1 ' src='https:&#47;&#47;public.tableau.com&#47;static&#47;images&#47;Wo&#47;Word_17615465535280&#47;Dashboard1&#47;1_rss.png' style='border: none' /></a></noscript><object class='tableauViz'  style='display:none;'><param name='host_url' value='https%3A%2F%2Fpublic.tableau.com%2F' /> <param name='embed_code_version' value='3' /> <param name='site_root' value='' /><param name='name' value='Word_17615465535280&#47;Dashboard1' /><param name='tabs' value='no' /><param name='toolbar' value='yes' /><param name='static_image' value='https:&#47;&#47;public.tableau.com&#47;static&#47;images&#47;Wo&#47;Word_17615465535280&#47;Dashboard1&#47;1.png' /> <param name='animate_transition' value='yes' /><param name='display_static_image' value='yes' /><param name='display_spinner' value='yes' /><param name='display_overlay' value='yes' /><param name='display_count' value='yes' /><param name='language' value='en-US' /><param name='filter' value='publish=yes' /></object></div>                <script type='text/javascript'>                    var divElement = document.getElementById('viz1761546625032');                    var vizElement = divElement.getElementsByTagName('object')[0];                    if ( divElement.offsetWidth > 800 ) { vizElement.style.width='1000px';vizElement.style.height='827px';} else if ( divElement.offsetWidth > 500 ) { vizElement.style.width='1000px';vizElement.style.height='827px';} else { vizElement.style.width='100%';vizElement.style.height='727px';}                     var scriptElement = document.createElement('script');                    scriptElement.src = 'https://public.tableau.com/javascripts/api/viz_v1.js';                    vizElement.parentNode.insertBefore(scriptElement, vizElement);                </script>"
   ]
  }
 ],
 "metadata": {
  "kernelspec": {
   "display_name": "myenv",
   "language": "python",
   "name": "python3"
  },
  "language_info": {
   "codemirror_mode": {
    "name": "ipython",
    "version": 3
   },
   "file_extension": ".py",
   "mimetype": "text/x-python",
   "name": "python",
   "nbconvert_exporter": "python",
   "pygments_lexer": "ipython3",
   "version": "3.11.13"
  }
 },
 "nbformat": 4,
 "nbformat_minor": 5
}
